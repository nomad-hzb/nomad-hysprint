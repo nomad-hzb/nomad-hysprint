{
 "cells": [
  {
   "cell_type": "code",
   "execution_count": null,
   "id": "0b393cb4-a0a3-4ec9-b266-2a9f500aff8e",
   "metadata": {
    "tags": []
   },
   "outputs": [
    {
     "name": "stdout",
     "output_type": "stream",
     "text": [
      "The autoreload extension is already loaded. To reload it, use:\n",
      "  %reload_ext autoreload\n"
     ]
    }
   ],
   "source": [
    "%matplotlib ipympl\n",
    "%load_ext autoreload\n",
    "%autoreload 2\n",
    "import ipywidgets as widgets\n",
    "from IPython.display import display, Markdown, HTML, Latex\n",
    "from api_calls import get_ids_in_batch, get_processing_steps, get_efficiencies\n",
    "from batch_selection import create_batch_selection\n",
    "import process_handling\n",
    "import access_token\n",
    "\n",
    "url_base =\"https://nomad-hzb-se.de\"\n",
    "url = f\"{url_base}/nomad-oasis/api/v1\"\n",
    "token = access_token.get_token(url)"
   ]
  },
  {
   "cell_type": "code",
   "execution_count": 44,
   "id": "885ea2c8-31c9-46e4-bd87-a7e858ae65fa",
   "metadata": {
    "tags": []
   },
   "outputs": [
    {
     "data": {
      "application/vnd.jupyter.widget-view+json": {
       "model_id": "8725bee8579142ce81bdc2c2e682dec9",
       "version_major": 2,
       "version_minor": 0
      },
      "text/plain": [
       "VBox(children=(Text(value='', description='Search Batch'), SelectMultiple(description='Batches', layout=Layout…"
      ]
     },
     "metadata": {},
     "output_type": "display_data"
    },
    {
     "data": {
      "application/vnd.jupyter.widget-view+json": {
       "model_id": "32a1ed7f89bd4709975687419412be75",
       "version_major": 2,
       "version_minor": 0
      },
      "text/plain": [
       "HBox()"
      ]
     },
     "metadata": {},
     "output_type": "display_data"
    },
    {
     "data": {
      "application/vnd.jupyter.widget-view+json": {
       "model_id": "aef1ec8c6fa24c03ba2d2473c169a2ee",
       "version_major": 2,
       "version_minor": 0
      },
      "text/plain": [
       "VBox(children=(Checkbox(value=False, description='hide nonvaried values'), Checkbox(value=False, description='…"
      ]
     },
     "metadata": {},
     "output_type": "display_data"
    },
    {
     "data": {
      "application/vnd.jupyter.widget-view+json": {
       "model_id": "c4bd7775154948a8b47e1d29a330ee96",
       "version_major": 2,
       "version_minor": 0
      },
      "text/plain": [
       "Output()"
      ]
     },
     "metadata": {},
     "output_type": "display_data"
    },
    {
     "data": {
      "application/vnd.jupyter.widget-view+json": {
       "model_id": "b6a93359773848799b1bad56d3dd9afa",
       "version_major": 2,
       "version_minor": 0
      },
      "text/plain": [
       "Output()"
      ]
     },
     "metadata": {},
     "output_type": "display_data"
    }
   ],
   "source": [
    "#initial widgets\n",
    "batch_overview_output = widgets.HBox()\n",
    "exclude_const = widgets.Checkbox(description = \"hide nonvaried values\")\n",
    "exclude_string = widgets.Checkbox(description = \"hide text values\")\n",
    "abbreviate_keys = widgets.Checkbox(description = \"abbreviate value names\")\n",
    "detail_output = widgets.Output()\n",
    "parameter_output = widgets.Output()\n",
    "\n",
    "batch_data = [] \n",
    "\n",
    "def load_data_function(batch_ids_selector):\n",
    "    global batch_data\n",
    "    def create_batch_overview(batch_id):\n",
    "        sample_ids = get_ids_in_batch(url, token, [batch_id])\n",
    "        return process_handling.batch_process(get_processing_steps(url, token, sample_ids),\n",
    "                                              get_efficiencies(url, token, sample_ids),\n",
    "                                              batch_id,\n",
    "                                              detail_output,\n",
    "                                              parameter_output,\n",
    "                                              exclude_const,\n",
    "                                              exclude_string,\n",
    "                                              abbreviate_keys)\n",
    "    batch_overview_list = list(map(create_batch_overview, batch_ids_selector.value))\n",
    "\n",
    "    batch_data = batch_overview_list\n",
    "    batch_overview_output.children = batch_overview_list\n",
    "    return\n",
    "\n",
    "display(create_batch_selection(url, token, load_data_function))\n",
    "display(batch_overview_output)\n",
    "display(widgets.VBox([exclude_const,exclude_string,abbreviate_keys]))\n",
    "display(detail_output)\n",
    "display(parameter_output)"
   ]
  },
  {
   "cell_type": "code",
   "execution_count": null,
   "id": "4b777b6e-59ed-4c34-8128-868197c81716",
   "metadata": {},
   "outputs": [
    {
     "data": {
      "text/plain": [
       "hzb_TestP_AA_2_c-5     5.197344\n",
       "hzb_TestP_AA_2_c-8    21.600000\n",
       "dtype: float64"
      ]
     },
     "execution_count": 46,
     "metadata": {},
     "output_type": "execute_result"
    }
   ],
   "source": [
    "# the global batch_data contains an object for every selected batch.\n",
    "# The efficiencies attribute is a dict key value pairs sample_id:efficiency\n",
    "# the get_selected_manufacturing_parameters retreives a dict containing dicts which store all the parameters for each sample\n",
    "# example applications:\n",
    "#pd.Series(batch_data[0].efficiencies)\n",
    "#print(batch_data[0].get_selected_manufacturing_parameters(only_samples_with_efficiencies=False, only_samples_with_all_values=True))"
   ]
  },
  {
   "cell_type": "code",
   "execution_count": null,
   "id": "82e5c5e5-777c-4d84-b25d-04c2aa90c7d5",
   "metadata": {},
   "outputs": [],
   "source": []
  }
 ],
 "metadata": {
  "kernelspec": {
   "display_name": "Python 3 (ipykernel)",
   "language": "python",
   "name": "python3"
  },
  "language_info": {
   "codemirror_mode": {
    "name": "ipython",
    "version": 3
   },
   "file_extension": ".py",
   "mimetype": "text/x-python",
   "name": "python",
   "nbconvert_exporter": "python",
   "pygments_lexer": "ipython3",
   "version": "3.10.10"
  }
 },
 "nbformat": 4,
 "nbformat_minor": 5
}
