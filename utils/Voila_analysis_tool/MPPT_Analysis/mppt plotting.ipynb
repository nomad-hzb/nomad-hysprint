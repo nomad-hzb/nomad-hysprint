{
 "cells": [
  {
   "cell_type": "markdown",
   "id": "4da6fb27-d952-4aa6-96fb-3e3f9e92824d",
   "metadata": {},
   "source": [
    "# MPPT Analysis\n",
    "## Select Batches"
   ]
  },
  {
   "cell_type": "code",
   "execution_count": 11,
   "id": "cad373e2-4312-4e10-b2fc-24b7b13d6704",
   "metadata": {
    "tags": []
   },
   "outputs": [
    {
     "name": "stdout",
     "output_type": "stream",
     "text": [
      "The autoreload extension is already loaded. To reload it, use:\n",
      "  %reload_ext autoreload\n"
     ]
    }
   ],
   "source": [
    "%matplotlib ipympl\n",
    "%load_ext autoreload\n",
    "%autoreload 2\n",
    "import ipywidgets as widgets\n",
    "from IPython.display import display, Markdown, HTML, Latex\n",
    "import os\n",
    "import sys\n",
    "import pandas as pd\n",
    "import numpy as np\n",
    "import itertools\n",
    "import plotly.io as pio\n",
    "import plotly.graph_objects as go\n",
    "import plotly.express as px\n",
    "\n",
    "sys.path.append(os.path.dirname(os.getcwd()))\n",
    "from api_calls import get_ids_in_batch, get_sample_description, get_all_mppt\n",
    "import batch_selection\n",
    "import plotting_utils\n",
    "import access_token\n",
    "\n",
    "url_base =\"https://nomad-hzb-se.de\"\n",
    "url = f\"{url_base}/nomad-oasis/api/v1\"\n",
    "token = access_token.get_token(url)"
   ]
  },
  {
   "cell_type": "code",
   "execution_count": 12,
   "id": "9c0b43bb-cc18-425a-b7cc-f88fb7f81f40",
   "metadata": {
    "scrolled": true,
    "tags": []
   },
   "outputs": [
    {
     "data": {
      "application/vnd.jupyter.widget-view+json": {
       "model_id": "4be18f37f7854f25a26fbe5c957aaeac",
       "version_major": 2,
       "version_minor": 0
      },
      "text/plain": [
       "VBox(children=(ToggleButton(value=False, description='Manual'), Output()))"
      ]
     },
     "metadata": {},
     "output_type": "display_data"
    },
    {
     "data": {
      "application/vnd.jupyter.widget-view+json": {
       "model_id": "d4780aaa2342455799c252dedadebe25",
       "version_major": 2,
       "version_minor": 0
      },
      "text/plain": [
       "VBox(children=(Text(value='', description='Search Batch'), SelectMultiple(description='Batches', layout=Layout…"
      ]
     },
     "metadata": {},
     "output_type": "display_data"
    },
    {
     "data": {
      "application/vnd.jupyter.widget-view+json": {
       "model_id": "d63bddd54a984f089019c5d7fbe0872c",
       "version_major": 2,
       "version_minor": 0
      },
      "text/plain": [
       "Output()"
      ]
     },
     "metadata": {},
     "output_type": "display_data"
    },
    {
     "data": {
      "application/vnd.jupyter.widget-view+json": {
       "model_id": "90339ab31a9d476a93f0df32da9d0c73",
       "version_major": 2,
       "version_minor": 0
      },
      "text/plain": [
       "Output()"
      ]
     },
     "metadata": {},
     "output_type": "display_data"
    }
   ],
   "source": [
    "warning_sign = \"\\u26A0\"\n",
    "\n",
    "out = widgets.Output()\n",
    "out2 = widgets.Output()\n",
    "read = widgets.Output()\n",
    "dynamic_content = widgets.Output()  # For dynamically updated content\n",
    "results_content = widgets.Output(layout={\n",
    "    # 'border': '1px solid black',  # Optional: adds a border to the widget\n",
    "    'max-height': '1000px',  # Set the height\n",
    "    'overflow': 'scroll',  # Adds a scrollbar if content overflows\n",
    "    })\n",
    "cell_edit = widgets.VBox()\n",
    "\n",
    "default_variables = widgets.Dropdown(\n",
    "    options=['sample name', 'batch',\"sample description\", 'custom'],\n",
    "    index=0,\n",
    "    description='name preset:',\n",
    "    disabled=False,\n",
    "    tooltip=\"Presets for how the samples will be named in the plot\"\n",
    ")\n",
    "\n",
    "#global dictionary to hold data\n",
    "data = {}\n",
    "\n",
    "#used in the fitting section, must be defined here so that the bounds can be set properly\n",
    "fit_interval= widgets.FloatRangeSlider(min=0, max=1000,\n",
    "                                       value=(0, 1000),\n",
    "                                       step=1,\n",
    "                                       description=\"interval\",\n",
    "                                       tooltip=\"time interval to use for model fitting\")\n",
    "\n",
    "#widget group for selecting samples and naming them\n",
    "class cellSelector(widgets.widget_box.VBox):\n",
    "    def __init__(self, sample_id, default, cell_box):\n",
    "        self.sample_id = sample_id\n",
    "        self.sample_id_text = widgets.Label(value=sample_id, layout={'width': '200px'})\n",
    "        self.count_text = widgets.Label(layout={'width': '100px'})\n",
    "        \n",
    "        item_split = sample_id.split(\"&\")\n",
    "        batch, variable = \"\", sample_id\n",
    "        if len(item_split) >=2:\n",
    "            batch, variable = item_split[0], \"&\".join(item_split[1:])\n",
    "        if default == \"batch\":\n",
    "            default_value = batch if batch else \"_\".join(sample_id.split(\"_\")[:-1])\n",
    "        elif default == \"sample name\":\n",
    "            default_value = variable\n",
    "        elif default == \"sample description\":\n",
    "            default_value = data[\"properties\"].loc[sample_id, \"description\"]\n",
    "        else:\n",
    "            default_value = \"\"\n",
    "        self.text_input = widgets.Text(value=default_value, placeholder='sample name in plot', layout={'width': '300px'})\n",
    "        \n",
    "        self.display_all_button = widgets.Button(description=\"use all\", layout={'width': '100px'}, tooltip=\"use every measurement of this sample\")\n",
    "        self.display_none_button = widgets.Button(description=\"use none\", layout={'width': '100px'}, tolltip=\"use no measurements of this sample\")\n",
    "        self.edit_curves_button = widgets.Button(description=\"expand options\", layout={'width': '100px'}, tooltip=\"select which measurements of this sample to use\")\n",
    "        self.display_all_button.on_click(self.select_all)\n",
    "        self.display_none_button.on_click(self.disselect_all)\n",
    "        self.edit_curves_button.on_click(self.expand_options)\n",
    "        \n",
    "        super().__init__([widgets.HBox([self.sample_id_text, self.count_text]), \n",
    "                          self.text_input, \n",
    "                          widgets.HBox([self.display_all_button, self.display_none_button, self.edit_curves_button])])\n",
    "        \n",
    "        self.select_individual_cells = []\n",
    "        self.name_defaults= []\n",
    "        self.name_individual_cells = []\n",
    "        for i in data[\"entries\"].loc[sample_id].index:\n",
    "            current_select_box=widgets.Checkbox(description = data[\"entries\"].loc[(sample_id,i),\"entry_names\"], value=True)\n",
    "            current_select_box.observe(self.update_count,\"value\")\n",
    "            self.select_individual_cells.append(current_select_box)\n",
    "            self.name_individual_cells.append(widgets.Text(placeholder=\"measurement name\"))\n",
    "            self.name_defaults.append(data[\"entries\"].loc[(sample_id,i),\"entry_names\"].removeprefix(sample_id))\n",
    "        \n",
    "        self.individual_widget_list = [widgets.HBox([self.select_individual_cells[i],self.name_individual_cells[i]]) for i in range(len(self.name_individual_cells))]\n",
    "        #box for containing the widgets for editing individual curve names and visibility\n",
    "        self.edit_box = cell_box\n",
    "        \n",
    "        #initialize value for the counter text\n",
    "        self.update_count(None)\n",
    "    def get_name(self):\n",
    "        if not self.text_input.value.strip():\n",
    "            return self.sample_id\n",
    "        else:\n",
    "            return self.text_input.value\n",
    "    def get_cell_selection(self):\n",
    "        return [cell.value for cell in self.select_individual_cells]#, index=data[\"params\"].loc[self.sample_id].index)\n",
    "    def get_curve_names(self):\n",
    "        name_list = []\n",
    "        for i, text_field in enumerate(self.name_individual_cells):\n",
    "            if text_field.value.strip():\n",
    "                name_list.append(text_field.value)\n",
    "            else:\n",
    "                name_list.append(self.name_defaults[i])\n",
    "        return name_list\n",
    "    \n",
    "    def select_all(self,b):\n",
    "        for button in self.select_individual_cells:\n",
    "            button.value=True\n",
    "    def disselect_all(self,b):\n",
    "        for button in self.select_individual_cells:\n",
    "            button.value=False\n",
    "    def expand_options(self,b):\n",
    "        self.edit_box.children = self.individual_widget_list\n",
    "    def update_count(self,change):\n",
    "        self.count_text.value=f\"{self.get_cell_selection().count(True)}/{len(self.select_individual_cells)} shown\"\n",
    "\n",
    "def create_widgets_table(elements_list):\n",
    "    rows=[]\n",
    "    selectors_dict={}\n",
    "    for sample_id in elements_list:\n",
    "        select = cellSelector(sample_id, default_variables.value, cell_edit)\n",
    "        rows.append(select)\n",
    "        selectors_dict[sample_id]=select\n",
    "    return widgets.VBox(rows), selectors_dict\n",
    "\n",
    "#take list of sample ids and return mppt data as data frames\n",
    "def get_mppt_data(try_sample_ids):  \n",
    "    all_mppt = get_all_mppt(url, token, try_sample_ids)  \n",
    "    existing_sample_ids = pd.Series(all_mppt.keys())  \n",
    "\n",
    "    # Check if there's any MPPT data  \n",
    "    if len(existing_sample_ids) == 0:  \n",
    "        return None, None, None  # Return None values to indicate no data  \n",
    "\n",
    "    mppt_curves_list = []  \n",
    "    description_list = []  \n",
    "    for sample_data in all_mppt:  \n",
    "        entry_names_list = []  \n",
    "        entry_description_list = []  \n",
    "        sample_curves_list = []  \n",
    "        for mppt_entry in all_mppt.get(sample_data):  \n",
    "            sample_curves_list.append(pd.DataFrame(mppt_entry[0], columns=[\"time\", \"power_density\", \"voltage\", \"current_density\"]))  \n",
    "            entry_names_list.append(mppt_entry[0][\"name\"])  \n",
    "            entry_description_list.append(mppt_entry[0].get(\"description\",\"\"))  \n",
    "\n",
    "        # Only try to concatenate if there's data  \n",
    "        if sample_curves_list:  \n",
    "            mppt_curves_list.append(pd.concat(sample_curves_list, keys=np.arange(len(sample_curves_list))))  \n",
    "            description_list.append(pd.DataFrame({\"entry_names\":entry_names_list, \"entry_description\":entry_description_list}))  \n",
    "\n",
    "    # Only try to concatenate if there's data  \n",
    "    if mppt_curves_list and description_list:  \n",
    "        return pd.concat(mppt_curves_list, keys=existing_sample_ids), existing_sample_ids, pd.concat(description_list, keys=existing_sample_ids)  \n",
    "    else:  \n",
    "        return None, None, None\n",
    "\n",
    "def on_load_data_clicked(batch_ids_selector):  \n",
    "    dynamic_content.clear_output()  \n",
    "    with out:  \n",
    "        out.clear_output()  \n",
    "        print(\"Loading Data\")  \n",
    "\n",
    "        try_sample_ids = get_ids_in_batch(url, token, batch_ids_selector.value)  \n",
    "\n",
    "        #extract MPPT here  \n",
    "        data[\"curves\"], data[\"sample_ids\"], data[\"entries\"] = get_mppt_data(try_sample_ids)  \n",
    "\n",
    "        # Check if MPPT data was found  \n",
    "        if data[\"curves\"] is None:  \n",
    "            out.clear_output()  \n",
    "            print(\"The batches selected don't contain any MPPT measurements\")  \n",
    "            return  \n",
    "\n",
    "        #make current and power positive  \n",
    "        data[\"curves\"].loc[:,\"power_density\"] *=-1  \n",
    "        data[\"curves\"].loc[:,\"current_density\"] *=-1  \n",
    "\n",
    "        #convert seconds to hours  \n",
    "        data[\"curves\"].loc[:,\"time\"] *= 1/3600  \n",
    "\n",
    "        identifiers = get_sample_description(url, token, list(data[\"sample_ids\"]))  \n",
    "        data[\"properties\"]=pd.DataFrame({\"description\":pd.Series(identifiers),\"name\":pd.Series()})  \n",
    "\n",
    "        data[\"entries\"].loc[:,\"plot\"]=False  \n",
    "        data[\"entries\"].loc[:,\"name\"]=\"\"  \n",
    "\n",
    "        out.clear_output()  \n",
    "        print(\"Data Loaded\")  \n",
    "\n",
    "    #set minimum and maximum bounds for the fitting range selection  \n",
    "    minimum_time = data[\"curves\"].loc[:,\"time\"].min()  \n",
    "    maximum_time = data[\"curves\"].loc[:,\"time\"].max()  \n",
    "    fit_interval.min=minimum_time  \n",
    "    fit_interval.max=maximum_time  \n",
    "    fit_interval.value=(minimum_time,maximum_time)  \n",
    "    fit_interval.step=(maximum_time-minimum_time)/1000  \n",
    "\n",
    "    data[\"curves\"].to_csv(\"mppt_curve.csv\")  \n",
    "    data[\"entries\"].to_csv(\"mppt_entries.csv\")  \n",
    "    data[\"properties\"].to_csv(\"mppt_properties.csv\")  \n",
    "    make_variables_menu(data[\"sample_ids\"])  \n",
    "    return\n",
    "\n",
    "def make_variables_menu(sample_ids):\n",
    "    variables_markdown = f\"\"\"\n",
    "# 2 Dataset names\n",
    "{len(sample_ids)} samples have been found.  \n",
    "Enter the name of the samples that should be used in the plot.\n",
    "\"\"\" \n",
    "    #results_markdown = brief_data_summary(data['jvc'])\n",
    "    with dynamic_content:\n",
    "        display(results_content)\n",
    "        display(Markdown(variables_markdown))\n",
    "        display(default_variables)\n",
    "        \n",
    "        widgets_table, selectors_dict = create_widgets_table(sample_ids)\n",
    "              \n",
    "        retrieve_button = widgets.Button(description=\"Confirm Names\", button_style='primary')\n",
    "        retrieve_button.on_click(lambda b: on_confirm_clicked(selectors_dict))\n",
    "        \n",
    "        display(widgets.HBox([widgets_table, cell_edit]))\n",
    "        button_group = widgets.HBox([retrieve_button, read])\n",
    "        display(button_group)\n",
    "    \n",
    "    #create_overview_table(results_content)\n",
    "    with read:\n",
    "        read.clear_output()\n",
    "        print(f\"{warning_sign} Selection not confirmed\")\n",
    "    return\n",
    "\n",
    "def on_change_default_variables(b):\n",
    "    dynamic_content.clear_output()\n",
    "    make_variables_menu(data[\"sample_ids\"])\n",
    "\n",
    "def on_confirm_clicked(selectors_dict):\n",
    "    name_dict = {}\n",
    "    read.clear_output()\n",
    "    for item, selector_widget in selectors_dict.items():\n",
    "        #print(item, text_widget.value)\n",
    "        name_dict[item] = selector_widget.get_name()\n",
    "        data[\"entries\"].loc[item, \"plot\"] = selector_widget.get_cell_selection()\n",
    "        data[\"entries\"].loc[item, \"name\"] = selector_widget.get_curve_names()\n",
    "    data[\"properties\"].loc[:,\"name\"] = pd.Series(name_dict)\n",
    "    with read:\n",
    "        print(\"Selection confirmed\")\n",
    "\n",
    "default_variables.observe(on_change_default_variables,names=['value'])\n",
    "\n",
    "display(plotting_utils.create_manual(\"mppt_manual.md\"))\n",
    "\n",
    "display(batch_selection.create_batch_selection(url, token, on_load_data_clicked))\n",
    "display(out)\n",
    "display(dynamic_content)  # This will be updated dynamically with the variables menu"
   ]
  },
  {
   "cell_type": "code",
   "execution_count": 7,
   "id": "26b74ec8-dfec-4fc8-a4d7-04d9216f71ec",
   "metadata": {
    "tags": []
   },
   "outputs": [
    {
     "data": {
      "application/vnd.jupyter.widget-view+json": {
       "model_id": "6591af2a5b6f4dc0aea7c3fa0ff4c966",
       "version_major": 2,
       "version_minor": 0
      },
      "text/plain": [
       "FloatRangeSlider(value=(7.866666666666667e-06, 0.050913888888888884), description='interval', max=0.0509138888…"
      ]
     },
     "metadata": {},
     "output_type": "display_data"
    },
    {
     "data": {
      "application/vnd.jupyter.widget-view+json": {
       "model_id": "933c8a548cc14ee9a53aaae8806f2106",
       "version_major": 2,
       "version_minor": 0
      },
      "text/plain": [
       "SelectMultiple(description='Select models', layout=Layout(height='300px', width='400px'), options=(('linear', …"
      ]
     },
     "metadata": {},
     "output_type": "display_data"
    },
    {
     "data": {
      "application/vnd.jupyter.widget-view+json": {
       "model_id": "e1daf0e6027449098a6156404d167de2",
       "version_major": 2,
       "version_minor": 0
      },
      "text/plain": [
       "Button(button_style='primary', description='perform fit', style=ButtonStyle())"
      ]
     },
     "metadata": {},
     "output_type": "display_data"
    },
    {
     "data": {
      "application/vnd.jupyter.widget-view+json": {
       "model_id": "6ba107c430124143ab28b0745a8ed99d",
       "version_major": 2,
       "version_minor": 0
      },
      "text/plain": [
       "Output()"
      ]
     },
     "metadata": {},
     "output_type": "display_data"
    }
   ],
   "source": [
    "#contains some models and utility functions\n",
    "from fitting_tools import *\n",
    "#import lmfit #easy to use library for curve fitting, like scipy.optimize but also calculates R^2 and other things for you\n",
    "\n",
    "# constructor signature: name, function for parameters, name for plotting, column names, Latex description (optional)\n",
    "# one column should be named \"$R^2$\" to compare the fit quality of different models \n",
    "available_fit_model_list = [fit_model(\"linear\", linear_params, \"linear \", \n",
    "                            [\"a\", \"b\", \"$R^2$\",\"t80\",\"LE\"], \n",
    "                            description=\"$P(t)=at+b$\"), \n",
    "                  fit_model(\"exponential\", exponential_params, \"exponential \", \n",
    "                            [\"$A$\",\"$\\tau$\", \"$R^2$\",\"t80\",\"LE\"], \n",
    "                            description=\"$P(t)=A\\\\exp{(-\\\\frac{t}{\\\\tau})}$\"), \n",
    "                  fit_model(\"biexponential\", biexponential_params, \"biexponential \", \n",
    "                            [\"$A_1$\",\"$\\tau_1$\",\"$A_2$\",\"$\\tau_2$\", \"$R^2$\",\"tS\",\"Ts80\",\"LE\"], \n",
    "                            description=\"$P(t)=A_1\\\\exp{(-\\\\frac{t}{\\\\tau_1})}+A_2\\\\exp{(-\\\\frac{t}{\\\\tau_2})}$\"), \n",
    "                  fit_model(\"logexp\", logistic_params, \"logistic + exp \", \n",
    "                            [\"A\", \"$\\tau$\", \"L\", \"k\", \"t0\", \"$R^2$\", \"tS\", \"Ts80\", \"LE\"], \n",
    "                            description=\"$P(t)=A\\\\exp{(-\\\\frac{t}{\\\\tau})}+\\\\frac{L}{1+\\\\exp{(-k(t-t_0)})}$\"), \n",
    "                  fit_model(\"stretched_exponential\", stretched_exponential_params, \"stretched exp \", \n",
    "                            [\"A\", \"$\\tau$\", \"$\\\\beta$\", \"$R^2$\", \"T80\", \"LE\"], \n",
    "                            description=\"$P(t)=A\\\\exp{(-(\\\\frac{t}{\\\\tau})^{\\\\beta})}$\"), \n",
    "                  fit_model(\"errorfunctionXlinear\", erfc_params, \"errorfunction x linear \", \n",
    "                            [\"$P_0$\", \"k\", \"$t_0$\", \"b\", \"$R^2$\", \"tS\", \"Ts80\", \"LE\"], \n",
    "                            description=\"$P(t)=0.5(1-\\\\text{erf}(\\\\frac{t-t_0}{b}))(P_0-kt)$\")\n",
    "                 ]\n",
    "\n",
    "#will be filled with the selected models\n",
    "fit_model_list=[]\n",
    "\n",
    "#widget to select which fit to plot, used one block down\n",
    "plot_fit_selector = widgets.RadioButtons(options=[(\"None\",False), (\"Best (highest R²)\", \"best\")]+[(model.name, model) for model in fit_model_list], index=1)\n",
    "\n",
    "fit_model_selector = widgets.SelectMultiple(options=[(model.name, model) for model in available_fit_model_list], \n",
    "                                            description='Select models',  \n",
    "                                            layout=widgets.Layout(width='400px', height='300px'), \n",
    "                                            tooltip=\"models that will be fitted to the measurements\")\n",
    "fit_button = widgets.Button(description=\"perform fit\", button_style='primary')\n",
    "fit_output = widgets.Output() #for the table containg the fitting parameters\n",
    "\n",
    "def execute_fitting(b):\n",
    "    fit_model_list = list(fit_model_selector.value)\n",
    "    plot_fit_selector.options=[(\"None\",False), (\"Best (highest R²)\", \"best\")]+[(model.name, model) for model in fit_model_list]\n",
    "    \n",
    "    for model in fit_model_list:\n",
    "        model.data = pd.DataFrame(index=data[\"entries\"].index, columns=model.columns)\n",
    "    \n",
    "    #function to get the proper interval of the time and power values\n",
    "    def get_interval_data(index):\n",
    "        power = data[\"curves\"].loc[index, \"power_density\"].to_numpy()\n",
    "        time = data[\"curves\"].loc[index, \"time\"].to_numpy()\n",
    "        \n",
    "        boundry_left = np.argmin(abs(time - fit_interval.value[0]))\n",
    "        boundry_right = np.argmin(abs(time - fit_interval.value[1]))\n",
    "        \n",
    "        return power[boundry_left:boundry_right], time[boundry_left:boundry_right]\n",
    "    \n",
    "    fitted_curves_list = []\n",
    "    for index in data[\"entries\"].index:\n",
    "        power, time = get_interval_data(index)\n",
    "        current_fitted_curves = pd.DataFrame({\"time\":time})\n",
    "        for model in fit_model_list:\n",
    "            model.data.loc[index], current_fitted_curves.loc[:,model.name] = model.parfunc(power, time)\n",
    "        \n",
    "        fitted_curves_list.append(current_fitted_curves)\n",
    "    data[\"fitted_curves\"]=pd.concat(fitted_curves_list, keys=data[\"entries\"].index)\n",
    "\n",
    "    all_fit_results=pd.concat([model.data for model in fit_model_list], axis=1, keys=[model.name for model in fit_model_list])\n",
    "    \n",
    "    with fit_output, pd.option_context('display.float_format', '{:,.2e}'.format):\n",
    "        fit_output.clear_output()\n",
    "        display(Markdown(\"fitting models for Power over time P(t)\"))\n",
    "        for model in fit_model_list:\n",
    "            display(Latex(model.name + \": \" + model.description))\n",
    "        display(HTML(all_fit_results.to_html()))\n",
    "        all_fit_results.to_csv(\"mppt_fitting_results.csv\")\n",
    "    return\n",
    "\n",
    "fit_button.on_click(execute_fitting)\n",
    "\n",
    "display(fit_interval, fit_model_selector, fit_button, fit_output)"
   ]
  },
  {
   "cell_type": "code",
   "execution_count": 8,
   "id": "ec85ff7e-b942-47e8-8056-3eda8062b161",
   "metadata": {
    "tags": []
   },
   "outputs": [],
   "source": [
    "template = pio.templates[\"plotly_white\"]\n",
    "template.data.scatter = [go.Scatter(line_color=color) for color in px.colors.qualitative.Vivid]"
   ]
  },
  {
   "cell_type": "markdown",
   "id": "b72b2cec-f012-4961-a472-906b66a84399",
   "metadata": {
    "tags": []
   },
   "source": [
    "# Plot MPPT Curves"
   ]
  },
  {
   "cell_type": "code",
   "execution_count": 9,
   "id": "9696eee6-7e36-464c-9339-55e30e26d982",
   "metadata": {
    "tags": []
   },
   "outputs": [
    {
     "data": {
      "application/vnd.jupyter.widget-view+json": {
       "model_id": "e3c98edf3b184ce4a05fb059b99c1e54",
       "version_major": 2,
       "version_minor": 0
      },
      "text/plain": [
       "RadioButtons(options=(('None', False), ('Best (highest R²)', 'best'), ('biexponential', <fitting_tools.fit_mod…"
      ]
     },
     "metadata": {},
     "output_type": "display_data"
    },
    {
     "data": {
      "application/vnd.jupyter.widget-view+json": {
       "model_id": "8b1d4dd3ec4a44edbd17250ff67eead5",
       "version_major": 2,
       "version_minor": 0
      },
      "text/plain": [
       "ToggleButtons(options=(('power density', ('power density', 'power_density')), ('voltage', ('voltage', 'voltage…"
      ]
     },
     "metadata": {},
     "output_type": "display_data"
    },
    {
     "data": {
      "application/vnd.jupyter.widget-view+json": {
       "model_id": "bc035475a1a94abf84f792ddff3a2254",
       "version_major": 2,
       "version_minor": 0
      },
      "text/plain": [
       "plot_options(children=(ToggleButtons(description='select how the datasets will be named', options=(('sample + …"
      ]
     },
     "metadata": {},
     "output_type": "display_data"
    },
    {
     "data": {
      "application/vnd.jupyter.widget-view+json": {
       "model_id": "eb94217f5db64fae98d67ba86aa7ee2f",
       "version_major": 2,
       "version_minor": 0
      },
      "text/plain": [
       "Button(button_style='primary', description='refresh plot', style=ButtonStyle())"
      ]
     },
     "metadata": {},
     "output_type": "display_data"
    },
    {
     "data": {
      "application/vnd.jupyter.widget-view+json": {
       "model_id": "f9df51323a424677936df9c0842e0097",
       "version_major": 2,
       "version_minor": 0
      },
      "text/plain": [
       "Output()"
      ]
     },
     "metadata": {},
     "output_type": "display_data"
    }
   ],
   "source": [
    "curve_out = widgets.Output()\n",
    "\n",
    "def update_curve_plot(b):\n",
    "    #create looping iterator for setting colors\n",
    "    color_iterator = itertools.cycle(px.colors.qualitative.Vivid)\n",
    "    \n",
    "    with curve_out:\n",
    "        #plot power on y axis if fitted curves should be plotted as well\n",
    "        if plot_fit_selector.value:\n",
    "            axis_title, column_name = (\"power density\",\"power_density\")\n",
    "        else:\n",
    "            axis_title, column_name = unit_selector.value\n",
    "        \n",
    "        layout = go.Layout(\n",
    "            width=curve_options.width.value,\n",
    "            height=curve_options.height.value,\n",
    "            xaxis={\"title\":{\"text\":\"time\"}},\n",
    "            yaxis={\"title\":{\"text\":axis_title}},\n",
    "            template=template)\n",
    "        \n",
    "        curve_out.clear_output()\n",
    "        figure = go.Figure(layout=layout)\n",
    "        \n",
    "        #iterate over every sample and cell with parameter plot set to true\n",
    "        for sample_id in data[\"sample_ids\"]:\n",
    "            sample_name = data[\"properties\"].loc[sample_id,\"name\"]\n",
    "            samples_filtered =data[\"entries\"].loc[sample_id].loc[data[\"entries\"].loc[sample_id][\"plot\"]]  \n",
    "            for i in samples_filtered.index:\n",
    "                color= next(color_iterator)\n",
    "                name = curve_options.name.value(sample_name,samples_filtered.loc[i,\"name\"])\n",
    "                \n",
    "                figure.add_scatter(x=data[\"curves\"].loc[(sample_id, i),\"time\"],\n",
    "                                   y=data[\"curves\"].loc[(sample_id, i),column_name],\n",
    "                                   name=name,\n",
    "                                   line_color=color,\n",
    "                                  )\n",
    "                \n",
    "                if not plot_fit_selector.value:\n",
    "                    continue\n",
    "                elif plot_fit_selector.value == \"best\":\n",
    "                    fit_model_list=list(fit_model_selector.value) #no idea why this line is needed\n",
    "                    model = max(fit_model_list, key= lambda model: model.data.loc[(sample_id, i), \"$R^2$\"])\n",
    "                else:\n",
    "                    model = plot_fit_selector.value\n",
    "\n",
    "                figure.add_scatter(x=data[\"fitted_curves\"].loc[(sample_id, i),\"time\"],\n",
    "                                   y=data[\"fitted_curves\"].loc[(sample_id, i),model.name],\n",
    "                                   name=model.abbreviated_name + name,\n",
    "                                   line_color=color\n",
    "                                  )\n",
    "        figure.show()\n",
    "\n",
    "#options contains list of tupels with contents (description, value), in this case value is (axis title, column name) \n",
    "unit_selector = widgets.ToggleButtons(options=[(\"power density\",(\"power density\",\"power_density\")),\n",
    "                                               (\"voltage\",(\"voltage\", \"voltage\")), \n",
    "                                               (\"current density\",(\"current density\",\"current_density\"))], \n",
    "                                      index=0, tooltip=\"only relevant when no fit is plotted\")\n",
    "\n",
    "curve_button = widgets.Button(description=\"refresh plot\", button_style='primary')\n",
    "curve_button.on_click(update_curve_plot)\n",
    "\n",
    "curve_options = plotting_utils.plot_options(default_name=0)\n",
    "\n",
    "display(plot_fit_selector, unit_selector, curve_options, curve_button, curve_out)"
   ]
  },
  {
   "cell_type": "markdown",
   "id": "f944ce4e-e3da-4925-9dd9-8ad2f7d0bd15",
   "metadata": {},
   "source": [
    "# Area Plot\n",
    "Measurements with the same name are grouped together"
   ]
  },
  {
   "cell_type": "code",
   "execution_count": 10,
   "id": "ac0da739-ef6b-449c-83e2-ad8b8187db00",
   "metadata": {
    "tags": []
   },
   "outputs": [
    {
     "data": {
      "application/vnd.jupyter.widget-view+json": {
       "model_id": "31c69fe0ba604cd780b075ff6f568549",
       "version_major": 2,
       "version_minor": 0
      },
      "text/plain": [
       "ToggleButtons(description='group type', options=(('median, quartiles', False), ('mean, std', True)), value=Fal…"
      ]
     },
     "metadata": {},
     "output_type": "display_data"
    },
    {
     "data": {
      "application/vnd.jupyter.widget-view+json": {
       "model_id": "96e97c233ff148e1a6888e2dcd1896d7",
       "version_major": 2,
       "version_minor": 0
      },
      "text/plain": [
       "ToggleButtons(options=(('power density', ('power density', 'power_density')), ('voltage', ('voltage', 'voltage…"
      ]
     },
     "metadata": {},
     "output_type": "display_data"
    },
    {
     "data": {
      "application/vnd.jupyter.widget-view+json": {
       "model_id": "8595f13bc4734792b93ad2c23467c1e5",
       "version_major": 2,
       "version_minor": 0
      },
      "text/plain": [
       "plot_options(children=(ToggleButtons(description='select how the datasets will be named', index=1, options=(('…"
      ]
     },
     "metadata": {},
     "output_type": "display_data"
    },
    {
     "data": {
      "application/vnd.jupyter.widget-view+json": {
       "model_id": "a75b5b9584a9443c8fc08b7ce941609e",
       "version_major": 2,
       "version_minor": 0
      },
      "text/plain": [
       "Button(button_style='primary', description='refresh plot', style=ButtonStyle())"
      ]
     },
     "metadata": {},
     "output_type": "display_data"
    },
    {
     "data": {
      "application/vnd.jupyter.widget-view+json": {
       "model_id": "4283e967cc8946e184a40da142237d52",
       "version_major": 2,
       "version_minor": 0
      },
      "text/plain": [
       "Output()"
      ]
     },
     "metadata": {},
     "output_type": "display_data"
    }
   ],
   "source": [
    "def update_area_plot(b):\n",
    "    #create looping iterator for setting colors\n",
    "    color_iterator = itertools.cycle(px.colors.qualitative.Vivid)\n",
    "    \n",
    "    axis_title, column_name = area_unit_selector.value\n",
    "    \n",
    "    with area_out:\n",
    "        layout = go.Layout(\n",
    "            width=curve_options.width.value,\n",
    "            height=curve_options.height.value,\n",
    "            xaxis={\"title\":{\"text\":\"time\"}},\n",
    "            yaxis={\"title\":{\"text\":axis_title}},\n",
    "            template=template)\n",
    "        area_out.clear_output()\n",
    "        figure = go.Figure(layout=layout)\n",
    "        \n",
    "        #Dictionary with every unique given name as index, contains list of all curves that have this given name\n",
    "        data_organized_by_given_name = {}\n",
    "        for sample_id in data[\"sample_ids\"]:\n",
    "            sample_name = data[\"properties\"].loc[sample_id,\"name\"]\n",
    "            samples_filtered =data[\"entries\"].loc[sample_id].loc[data[\"entries\"].loc[sample_id][\"plot\"]]  \n",
    "            for i in samples_filtered.index:\n",
    "                name = area_options.name.value(sample_name, samples_filtered.loc[i,\"name\"])\n",
    "                if name not in data_organized_by_given_name.keys():\n",
    "                    data_organized_by_given_name[name]=[]\n",
    "                data_organized_by_given_name[name].append(data[\"curves\"].loc[(sample_id, i),:])\n",
    "\n",
    "        #print(data_organized_by_given_name)\n",
    "        for name, curve_list in data_organized_by_given_name.items():\n",
    "            #get minimum and maximum times\n",
    "            max_time=max([curve.loc[curve.index[0],\"time\"] for curve in curve_list])\n",
    "            min_time=min([curve.loc[curve.index[-1],\"time\"] for curve in curve_list])\n",
    "\n",
    "            xcoords = np.linspace(min_time, max_time, 500)\n",
    "\n",
    "            interpolated_curves = pd.DataFrame(map(lambda curve : np.interp(xcoords, \n",
    "                                                                            curve.loc[:,\"time\"], \n",
    "                                                                            curve.loc[:,column_name], \n",
    "                                                                            left=np.nan, right=np.nan), \n",
    "                                                   curve_list))\n",
    "\n",
    "            curve_stats = pd.DataFrame([interpolated_curves.mean(), \n",
    "                                        interpolated_curves.std(), \n",
    "                                        interpolated_curves.median(), \n",
    "                                        interpolated_curves.quantile(q=0.25,interpolation='linear'),\n",
    "                                        interpolated_curves.quantile(q=0.75,interpolation='linear')\n",
    "                                       ],\n",
    "                                       index = [\"mean\",\"std\",\"median\",\"lower_quartile\",\"upper_quartile\"]\n",
    "                                      )\n",
    "\n",
    "            #Plot the results\n",
    "            color = next(color_iterator)\n",
    "            if standart_deviation_area.value:\n",
    "                figure.add_scatter(x=np.concatenate([xcoords,xcoords[::-1]]), #[indices, reversed indices]\n",
    "                                   y= pd.concat([curve_stats.loc[\"mean\",:] + curve_stats.loc[\"std\",:], \n",
    "                                                 curve_stats.loc[\"mean\",::-1] - curve_stats.loc[\"std\",::-1]]), #[mean+std, mean-std in reversed order]\n",
    "                                   line_color='rgba(255,255,255,0)', #make outline of area invisible\n",
    "                                   fillcolor=f\"rgba({color[4:-1]},0.2)\", #manipulate color string to add transparency\n",
    "                                   fill=\"toself\",\n",
    "                                   legendgroup=name,\n",
    "                                   showlegend=False,\n",
    "                                   name=name)\n",
    "                figure.add_scatter(x=xcoords, \n",
    "                                   y=curve_stats.loc[\"mean\",:], \n",
    "                                   name=name, \n",
    "                                   line_color=color,\n",
    "                                   legendgroup=name)\n",
    "            else:\n",
    "                figure.add_scatter(x=np.concatenate([xcoords,xcoords[::-1]]), #[indices, reversed indices]\n",
    "                                   y= pd.concat([curve_stats.loc[\"lower_quartile\",:], curve_stats.loc[\"upper_quartile\",::-1]]), #[lower qurtile, upper quartile in reversed order]\n",
    "                                   line_color='rgba(255,255,255,0)', #make outline of area invisible\n",
    "                                   fillcolor=f\"rgba({color[4:-1]},0.2)\", #manipulate color string to add transparency\n",
    "                                   fill=\"toself\",\n",
    "                                   legendgroup=name,\n",
    "                                   showlegend=False,\n",
    "                                   name=name)\n",
    "                figure.add_scatter(x=xcoords, \n",
    "                                   y=curve_stats.loc[\"median\",:], \n",
    "                                   name=name, \n",
    "                                   line_color=color,\n",
    "                                   legendgroup=name)\n",
    "        figure.show()\n",
    "\n",
    "area_out = widgets.Output()\n",
    "standart_deviation_area = widgets.ToggleButtons(description=\"group type\",options=[(\"median, quartiles\",False),(\"mean, std\",True)], index=0)\n",
    "area_options = plotting_utils.plot_options(default_name=1)\n",
    "area_unit_selector = widgets.ToggleButtons(options=[(\"power density\",(\"power density\",\"power_density\")),\n",
    "                                               (\"voltage\",(\"voltage\", \"voltage\")), \n",
    "                                               (\"current density\",(\"current density\",\"current_density\"))], \n",
    "                                      index=0)\n",
    "area_button = widgets.Button(description=\"refresh plot\", button_style='primary')\n",
    "area_button.on_click(update_area_plot)\n",
    "\n",
    "display(standart_deviation_area, area_unit_selector, area_options, area_button, area_out)"
   ]
  },
  {
   "cell_type": "code",
   "execution_count": null,
   "id": "b479f877-5cc2-4f4d-bb27-b1629b8c09eb",
   "metadata": {},
   "outputs": [],
   "source": []
  }
 ],
 "metadata": {
  "kernelspec": {
   "display_name": "Python 3 (ipykernel)",
   "language": "python",
   "name": "python3"
  },
  "language_info": {
   "codemirror_mode": {
    "name": "ipython",
    "version": 3
   },
   "file_extension": ".py",
   "mimetype": "text/x-python",
   "name": "python",
   "nbconvert_exporter": "python",
   "pygments_lexer": "ipython3",
   "version": "3.10.10"
  }
 },
 "nbformat": 4,
 "nbformat_minor": 5
}
