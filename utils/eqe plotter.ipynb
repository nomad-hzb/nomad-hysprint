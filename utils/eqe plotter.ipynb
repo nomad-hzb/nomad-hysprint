{
 "cells": [
  {
   "cell_type": "markdown",
   "id": "62bc5c7b-4bc3-4fe2-8bcc-3515b837f1ea",
   "metadata": {},
   "source": [
    "# 1 Select Batches\n",
    "only batches of type \"hysprint_batch\" are considered"
   ]
  },
  {
   "cell_type": "code",
   "execution_count": 8,
   "id": "c673a2c8-7465-457c-b2c8-ce11ccfc5168",
   "metadata": {
    "tags": []
   },
   "outputs": [
    {
     "name": "stdout",
     "output_type": "stream",
     "text": [
      "The autoreload extension is already loaded. To reload it, use:\n",
      "  %reload_ext autoreload\n"
     ]
    }
   ],
   "source": [
    "%matplotlib ipympl\n",
    "%load_ext autoreload\n",
    "%autoreload 2\n",
    "import ipywidgets as widgets\n",
    "import plotly.graph_objects as go\n",
    "import plotly.express as px\n",
    "from IPython.display import display, Markdown, HTML\n",
    "import os\n",
    "import pandas as pd\n",
    "from api_calls import get_batch_ids, get_ids_in_batch, get_sample_description, get_all_eqe\n",
    "import numpy as np\n",
    "import json\n",
    "import batch_selection\n",
    "import plotting_utils\n",
    "url_base =\"https://nomad-hzb-se.de\"\n",
    "url = f\"{url_base}/nomad-oasis/api/v1\"\n",
    "token = os.environ['NOMAD_CLIENT_ACCESS_TOKEN']"
   ]
  },
  {
   "cell_type": "code",
   "execution_count": 9,
   "id": "f1ca750b-956e-4633-834f-0722a1fa900f",
   "metadata": {
    "tags": []
   },
   "outputs": [
    {
     "data": {
      "application/vnd.jupyter.widget-view+json": {
       "model_id": "a3d5599112594d56a78044f4fcba073f",
       "version_major": 2,
       "version_minor": 0
      },
      "text/plain": [
       "VBox(children=(Text(value='', description='Search Batch'), SelectMultiple(description='Batches', layout=Layout…"
      ]
     },
     "metadata": {},
     "output_type": "display_data"
    },
    {
     "data": {
      "application/vnd.jupyter.widget-view+json": {
       "model_id": "d220a15b6935402c9a0179a90cfad097",
       "version_major": 2,
       "version_minor": 0
      },
      "text/plain": [
       "Output()"
      ]
     },
     "metadata": {},
     "output_type": "display_data"
    },
    {
     "data": {
      "application/vnd.jupyter.widget-view+json": {
       "model_id": "382c10d5a03b49aeac16fe021e7ea3e3",
       "version_major": 2,
       "version_minor": 0
      },
      "text/plain": [
       "Output()"
      ]
     },
     "metadata": {},
     "output_type": "display_data"
    }
   ],
   "source": [
    "warning_sign = \"\\u26A0\"\n",
    "\n",
    "out = widgets.Output()\n",
    "out2 = widgets.Output()\n",
    "read = widgets.Output()\n",
    "dynamic_content = widgets.Output()  # For dynamically updated content\n",
    "results_content = widgets.Output(layout={\n",
    "    # 'border': '1px solid black',  # Optional: adds a border to the widget\n",
    "    'max-height': '1000px',  # Set the height\n",
    "    'overflow': 'scroll',  # Adds a scrollbar if content overflows\n",
    "    })\n",
    "cell_edit = widgets.VBox() \n",
    "\n",
    "default_variables = widgets.Dropdown(\n",
    "    options=['subbatches', 'batches',\"sample description\", 'custom'],\n",
    "    index=0,\n",
    "    description='preset:',\n",
    "    disabled=False,\n",
    ")\n",
    "\n",
    "#widget group for selecting cells in a sample\n",
    "class cellSelector(widgets.widget_box.VBox):\n",
    "    def __init__(self, sample_id, default, cell_box):\n",
    "        self.sample_id = sample_id\n",
    "        self.sample_id_text = widgets.Label(value=sample_id, layout={'width': '200px'})\n",
    "        self.count_text = widgets.Label(layout={'width': '100px'})\n",
    "        \n",
    "        item_split = sample_id.split(\"&\")\n",
    "        batch, variable = \"\", sample_id\n",
    "        if len(item_split) >=2:\n",
    "            batch, variable = item_split[0], \"&\".join(item_split[1:])\n",
    "        if default == \"batches\":\n",
    "            default_value = batch if batch else \"_\".join(sample_id.split(\"_\")[:-1])\n",
    "        elif default == \"subbatches\":\n",
    "            default_value = variable\n",
    "        elif default == \"sample description\":\n",
    "            default_value = data[\"properties\"].loc[sample_id, \"description\"]\n",
    "        else:\n",
    "            default_value = \"\"\n",
    "        self.text_input = widgets.Text(value=default_value, placeholder='Name in Plot', layout={'width': '300px'})\n",
    "        \n",
    "        self.display_all_button = widgets.Button(description=\"show all cells\", layout={'width': '100px'})\n",
    "        self.display_none_button = widgets.Button(description=\"show none\", layout={'width': '100px'})\n",
    "        self.edit_curves_button = widgets.Button(description=\"expand options\", layout={'width': '100px'})\n",
    "        self.display_all_button.on_click(self.select_all)\n",
    "        self.display_none_button.on_click(self.disselect_all)\n",
    "        self.edit_curves_button.on_click(self.expand_options)\n",
    "        \n",
    "        super().__init__([widgets.HBox([self.sample_id_text, self.count_text]), \n",
    "                          self.text_input, \n",
    "                          widgets.HBox([self.display_all_button, self.display_none_button, self.edit_curves_button])])\n",
    "        \n",
    "        self.select_individual_cells = []\n",
    "        self.name_defaults= []\n",
    "        self.name_individual_cells = []\n",
    "        for i in data[\"params\"].loc[sample_id].index:\n",
    "            current_select_box=widgets.Checkbox(description = data[\"entries\"].loc[(sample_id, i[0]), \"entry_names\"] + \" \" + str(i[1]), value=True)\n",
    "            current_select_box.observe(self.update_count,\"value\")\n",
    "            self.select_individual_cells.append(current_select_box)\n",
    "            self.name_individual_cells.append(widgets.Text(placeholder=\"Name\"))\n",
    "            self.name_defaults.append(data[\"entries\"].loc[(sample_id, i[0]), \"entry_names\"].removeprefix(sample_id) +\" \"+ str(i[1]))\n",
    "        \n",
    "        self.individual_widget_list = [widgets.HBox([self.select_individual_cells[i],self.name_individual_cells[i]]) for i in range(len(self.name_individual_cells))]\n",
    "                                              \n",
    "        #box for containing the widgets for editing individual curve names and visibility\n",
    "        self.edit_box = cell_box\n",
    "        \n",
    "        #initialize value for the counter text\n",
    "        self.update_count(None)\n",
    "    def get_name(self):\n",
    "        if not self.text_input.value.strip():\n",
    "            return self.sample_id\n",
    "        else:\n",
    "            return self.text_input.value\n",
    "    def get_cell_selection(self):\n",
    "        return [cell.value for cell in self.select_individual_cells]#, index=data[\"params\"].loc[self.sample_id].index)\n",
    "    def get_curve_names(self):\n",
    "        name_list = []\n",
    "        for i, text_field in enumerate(self.name_individual_cells):\n",
    "            if text_field.value.strip():\n",
    "                name_list.append(text_field.value)\n",
    "            else:\n",
    "                name_list.append(self.name_defaults[i])\n",
    "        return name_list\n",
    "    \n",
    "    def select_all(self,b):\n",
    "        for button in self.select_individual_cells:\n",
    "            button.value=True\n",
    "    def disselect_all(self,b):\n",
    "        for button in self.select_individual_cells:\n",
    "            button.value=False\n",
    "    def expand_options(self,b):\n",
    "        self.edit_box.children = self.individual_widget_list\n",
    "    def update_count(self,change):\n",
    "        self.count_text.value=f\"{self.get_cell_selection().count(True)}/{len(self.select_individual_cells)} shown\"\n",
    "\n",
    "def create_widgets_table(elements_list):\n",
    "    rows=[]\n",
    "    selectors_dict={}\n",
    "    for sample_id in elements_list:\n",
    "        select = cellSelector(sample_id, default_variables.value, cell_edit)\n",
    "        rows.append(select)\n",
    "        selectors_dict[sample_id]=select\n",
    "    return widgets.VBox(rows), selectors_dict\n",
    "\n",
    "#this function takes sample ids and returns the eqe curves and parameters as Dataframes\n",
    "def get_eqe_data(try_sample_ids):\n",
    "    #parameters of single eqe measurement\n",
    "    eqe_params_names = [\"light_bias\",\"bandgap_eqe\",\"integrated_jsc\",\"integrated_j0rad\",\"voc_rad\",\"urbach_energy\",\"urbach_energy_fit_std_dev\"]\n",
    "    #make api call, result has everything in json format\n",
    "    all_eqe = get_all_eqe(url, token, try_sample_ids)\n",
    "    with open('data.json', 'w', encoding='utf-8') as f:\n",
    "        json.dump(all_eqe,f)\n",
    "\n",
    "    existing_sample_ids = pd.Series(all_eqe.keys())    \n",
    "    eqe_curves_list = []\n",
    "    eqe_params_list = []\n",
    "    description_list = []\n",
    "    for sample_data in all_eqe:\n",
    "        entry_names_list = []\n",
    "        entry_description_list = []\n",
    "        sample_curves_list = []\n",
    "        sample_params_list = []\n",
    "        for eqe_entry in all_eqe.get(sample_data):\n",
    "            current_entry_eqe_curves = []\n",
    "            for measurement in eqe_entry[0][\"eqe_data\"]:\n",
    "                current_entry_eqe_curves.append(pd.DataFrame(measurement, columns = [\"photon_energy_array\", \"wavelength_array\", \"eqe_array\"]))\n",
    "            sample_curves_list.append(pd.concat(current_entry_eqe_curves,keys=np.arange(len(current_entry_eqe_curves))))\n",
    "            sample_params_list.append(pd.DataFrame(eqe_entry[0][\"eqe_data\"], columns=eqe_params_names))\n",
    "            \n",
    "            entry_names_list.append(eqe_entry[0][\"name\"])\n",
    "            entry_description_list.append(eqe_entry[0][\"description\"])\n",
    "        eqe_curves_list.append(pd.concat(sample_curves_list, keys=np.arange(len(sample_curves_list))))\n",
    "        eqe_params_list.append(pd.concat(sample_params_list, keys=np.arange(len(sample_curves_list))))\n",
    "        description_list.append(pd.DataFrame({\"entry_names\":entry_names_list, \"entry_description\":entry_description_list}))\n",
    "            \n",
    "        #unify all measurements of a single sample into a dataframe, put these frames of different samples in a list\n",
    "        #resulting frame for curves has nested index structure sample/eqe_entry/curve/datapoint, string/string/int/int, params lack last layer\n",
    "    return pd.concat(eqe_curves_list, keys=existing_sample_ids), pd.concat(eqe_params_list, keys=existing_sample_ids), existing_sample_ids, pd.concat(description_list, keys=existing_sample_ids)\n",
    "\n",
    "def on_load_data_clicked(batch_ids_selector):\n",
    "    #global dictionary to hold data\n",
    "    global data\n",
    "    data = {}\n",
    "    dynamic_content.clear_output()\n",
    "    with out:\n",
    "        out.clear_output()\n",
    "        print(\"Loading Data\")\n",
    "\n",
    "        try_sample_ids = get_ids_in_batch(url, token, batch_ids_selector.value)\n",
    "        \n",
    "        #extract EQE here\n",
    "        data[\"curves\"], data[\"params\"], data[\"sample_ids\"], data[\"entries\"] = get_eqe_data(try_sample_ids)\n",
    "        \n",
    "        identifiers = get_sample_description(url, token, list(data[\"sample_ids\"]))\n",
    "        data[\"params\"].loc[:,\"plot\"]=False\n",
    "        data[\"params\"].loc[:,\"name\"]=\"\"\n",
    "        \n",
    "        #subbatch_col = list(data[\"sample_ids\"].copy().apply(lambda x: x.split('/')[-1].split('.')[0].split('_')[-2]))\n",
    "        #batch_col = list(data[\"sample_ids\"].copy().apply(lambda x: x.split('/')[-1].split('.')[0].split('_')[-3]))\n",
    "        #identifier_col = list(data[\"sample_ids\"].copy().apply(lambda x: x.split('/')[-1].split(\".\")[0]))\n",
    "        #\"subbatch\":subbatch_col,\"batch\":batch_col,\"identifier\":identifier_col,\n",
    "        data[\"properties\"]=pd.DataFrame({\"description\":pd.Series(identifiers),\"name\":pd.Series()})\n",
    "        \n",
    "        out.clear_output()\n",
    "        print(\"Data Loaded\")\n",
    "    make_variables_menu(data[\"sample_ids\"])\n",
    "    return\n",
    "\n",
    "def on_confirm_clicked(selectors_dict):\n",
    "    name_dict = {}\n",
    "    read.clear_output()\n",
    "    for item, selector_widget in selectors_dict.items():\n",
    "        #print(item, text_widget.value)\n",
    "        name_dict[item] = selector_widget.get_name()\n",
    "        #print(selector_widget.get_cell_selection())\n",
    "        data[\"params\"].loc[item, \"plot\"] = selector_widget.get_cell_selection()\n",
    "        data[\"params\"].loc[item, \"name\"] = selector_widget.get_curve_names()\n",
    "    data[\"properties\"][\"name\"] = pd.Series(name_dict)\n",
    "    \n",
    "    data[\"curves\"].to_csv(\"eqe_curve.csv\")\n",
    "    data[\"params\"].to_csv(\"eqe_params.csv\")\n",
    "    data[\"properties\"].to_csv(\"eqe_properties.csv\")\n",
    "    data[\"entries\"].to_csv(\"eqe_entries.csv\")\n",
    "    \n",
    "    with read:\n",
    "        print(\"Variables loaded\")\n",
    "\n",
    "def make_variables_menu(sample_ids):\n",
    "    variables_markdown = f\"\"\"\n",
    "# 1a Add variable names\n",
    "{len(sample_ids)} samples have been found.\n",
    "Enter the name of the samples that should be used in the plot.\n",
    "Curves with the same name will be grouped together\n",
    "\"\"\" \n",
    "    #results_markdown = brief_data_summary(data['jvc'])\n",
    "    with dynamic_content:\n",
    "        display(results_content)\n",
    "        display(Markdown(variables_markdown))\n",
    "        display(default_variables)\n",
    "        widgets_table, selectors_dict = create_widgets_table(sample_ids)\n",
    "        retrieve_button = widgets.Button(description=\"Confirm variables\", button_style='primary')\n",
    "        retrieve_button.on_click(lambda b: on_confirm_clicked(selectors_dict))\n",
    "        display(widgets.HBox([widgets_table, cell_edit]))\n",
    "        button_group = widgets.HBox([retrieve_button, read])\n",
    "        display(button_group)\n",
    "    \n",
    "    #results_html = widgets.HTML(value=f\"<div>{results_markdown}</div>\")\n",
    "    create_overview_table(results_content)\n",
    "        #display(Markdown(results_markdown))\n",
    "    with read:\n",
    "        read.clear_output()\n",
    "        print(f\"{warning_sign} Variables not loaded\")\n",
    "    return\n",
    "\n",
    "def on_change_default_variables(b):\n",
    "    dynamic_content.clear_output()\n",
    "    make_variables_menu(data[\"sample_ids\"])\n",
    "\n",
    "def create_overview_table(output_widget):\n",
    "    columns = pd.MultiIndex.from_product([[\"bandgap_eqe\",\"integrated_jsc\",\"integrated_j0rad\",\"voc_rad\",\"urbach_energy\",\"light_bias\"],[\"min\", \"mean\",\"mean std\", \"max\"]])\n",
    "    overview = pd.DataFrame(columns=columns)\n",
    "    for index in columns:\n",
    "        for sid in data[\"sample_ids\"]:\n",
    "            if index[1]==\"min\":\n",
    "                overview.loc[sid, index]=data[\"params\"].loc[sid, index[0]].min()\n",
    "            elif index[1]==\"mean\":\n",
    "                overview.loc[sid, index]=data[\"params\"].loc[sid, index[0]].mean()\n",
    "            elif index[1]==\"max\":\n",
    "                overview.loc[sid, index]=data[\"params\"].loc[sid, index[0]].max()\n",
    "            elif index[1]==\"mean std\":\n",
    "                overview.loc[sid, index]=data[\"params\"].loc[sid, index[0]].std()\n",
    "        #add statisitcs for entire table\n",
    "        if index[1]==\"min\":\n",
    "            overview.loc[\"All Data\", index]=data[\"params\"].loc[:, index[0]].min()\n",
    "        elif index[1]==\"mean\":\n",
    "            overview.loc[\"All Data\", index]=data[\"params\"].loc[:, index[0]].mean()\n",
    "        elif index[1]==\"max\":\n",
    "            overview.loc[\"All Data\", index]=data[\"params\"].loc[:, index[0]].max()\n",
    "        elif index[1]==\"mean std\":\n",
    "            overview.loc[\"All Data\", index]=data[\"params\"].loc[:, index[0]].std()\n",
    "\n",
    "    with output_widget, pd.option_context('display.float_format', '{:,.2e}'.format):\n",
    "        output_widget.clear_output() \n",
    "        display(HTML(overview.to_html()))\n",
    "        display(HTML(data[\"params\"].to_html(columns=[\"bandgap_eqe\",\"integrated_jsc\",\"integrated_j0rad\",\"voc_rad\",\"urbach_energy\",\"light_bias\"], justify=\"left\", border=1)))\n",
    "    return\n",
    "\n",
    "default_variables.observe(on_change_default_variables,names=['value'])\n",
    "\n",
    "# Bind the 'Load Data' button click event\n",
    "button.on_click(on_load_data_clicked)\n",
    "\n",
    "# Bind the Search function to changes in the search field\n",
    "search_field.observe(on_search_enter, \"value\")\n",
    "\n",
    "# Display the initial UI components\n",
    "load_group = widgets.HBox([button, out])\n",
    "\n",
    "display(batch_selection.create_batch_selection(url, token, on_load_data_clicked))\n",
    "display(out)\n",
    "display(dynamic_content)  # This will be updated dynamically with the variables menu"
   ]
  },
  {
   "cell_type": "code",
   "execution_count": 10,
   "id": "8b81c40d-b38c-4378-8f43-24b0681a238a",
   "metadata": {
    "tags": []
   },
   "outputs": [],
   "source": [
    "#set styling template\n",
    "import plotly.io as pio\n",
    "from bisect import bisect\n",
    "import itertools\n",
    "import scipy\n",
    "\n",
    "template = pio.templates[\"plotly_white\"]\n",
    "template.data.scatter = [go.Scatter(line_color=color) for color in px.colors.qualitative.Vivid]\n",
    "\n",
    "#create looping iterator for setting colors\n",
    "color_iterator = itertools.cycle(px.colors.qualitative.Vivid)"
   ]
  },
  {
   "cell_type": "markdown",
   "id": "0d4fe569-e5a5-46d5-b3d7-dc035b0f8fca",
   "metadata": {},
   "source": [
    "# EQE curve plots"
   ]
  },
  {
   "cell_type": "code",
   "execution_count": 11,
   "id": "d50a715c-4a7b-4034-861e-98604ab79de5",
   "metadata": {
    "tags": []
   },
   "outputs": [
    {
     "data": {
      "application/vnd.jupyter.widget-view+json": {
       "model_id": "142a64b66a014b73bb2ceee70e194d9e",
       "version_major": 2,
       "version_minor": 0
      },
      "text/plain": [
       "Checkbox(value=True, description='group curves with same name', indent=False)"
      ]
     },
     "metadata": {},
     "output_type": "display_data"
    },
    {
     "data": {
      "application/vnd.jupyter.widget-view+json": {
       "model_id": "2482acb60dc04c5188208639e9d00f03",
       "version_major": 2,
       "version_minor": 0
      },
      "text/plain": [
       "ToggleButtons(description='group type', options=(('median, quartiles', False), ('average, std', True)), value=…"
      ]
     },
     "metadata": {},
     "output_type": "display_data"
    },
    {
     "data": {
      "application/vnd.jupyter.widget-view+json": {
       "model_id": "10970a31536448c28039c7701739a4e5",
       "version_major": 2,
       "version_minor": 0
      },
      "text/plain": [
       "ToggleButtons(options=(('photon energy', ('photon energy / eV', 'photon_energy_array')), ('wavelength', ('wave…"
      ]
     },
     "metadata": {},
     "output_type": "display_data"
    },
    {
     "data": {
      "application/vnd.jupyter.widget-view+json": {
       "model_id": "7e4e510e66e740e6acc445e4ea53923d",
       "version_major": 2,
       "version_minor": 0
      },
      "text/plain": [
       "plot_options(children=(ToggleButtons(options=(('sample + curve name', <function sample_and_curve_name at 0x7f8…"
      ]
     },
     "metadata": {},
     "output_type": "display_data"
    },
    {
     "data": {
      "application/vnd.jupyter.widget-view+json": {
       "model_id": "e2c00105f5e84f938226c48d7a7ea5c5",
       "version_major": 2,
       "version_minor": 0
      },
      "text/plain": [
       "Button(button_style='primary', description='refresh plot', style=ButtonStyle())"
      ]
     },
     "metadata": {},
     "output_type": "display_data"
    },
    {
     "data": {
      "application/vnd.jupyter.widget-view+json": {
       "model_id": "bf3d9f0281b7414f84029e2ce545f606",
       "version_major": 2,
       "version_minor": 0
      },
      "text/plain": [
       "Output()"
      ]
     },
     "metadata": {},
     "output_type": "display_data"
    }
   ],
   "source": [
    "curve_out = widgets.Output(overflow=\"scroll\")\n",
    "intervals = widgets.Checkbox(description=\"group curves with same name\", indent=False, value=True)\n",
    "\n",
    "def update_curve_plot(b):\n",
    "    with curve_out:\n",
    "        axis_title, column_name = unit_selector.value\n",
    "        layout = go.Layout(\n",
    "            width=curve_options.width.value,\n",
    "            height=curve_options.height.value,\n",
    "            xaxis={\"title\":{\"text\":axis_title}},\n",
    "            yaxis={\"title\":{\"text\":\"external quantum efficiency\"}},\n",
    "            template=template\n",
    "            )\n",
    "        curve_out.clear_output()\n",
    "        figure = go.Figure(layout=layout)\n",
    "        \n",
    "        if intervals.value:\n",
    "            #Dictionary with every unique given name as index, contains list of all curves that have this given name\n",
    "            data_organized_by_given_name = {}\n",
    "            for sample_id in data[\"sample_ids\"]:\n",
    "                sample_name = data[\"properties\"].loc[sample_id,\"name\"]\n",
    "                samples_filtered =data[\"params\"].loc[sample_id].loc[data[\"params\"].loc[sample_id][\"plot\"]]  \n",
    "                for i in samples_filtered.index:\n",
    "                    name = curve_options.name.value(sample_name, samples_filtered.loc[i,\"name\"])\n",
    "                    if name not in data_organized_by_given_name.keys():\n",
    "                        data_organized_by_given_name[name]=[]\n",
    "                    data_organized_by_given_name[name].append(data[\"curves\"].loc[(sample_id, *i),:])\n",
    "            \n",
    "            #print(data_organized_by_given_name)\n",
    "            for name, curve_list in data_organized_by_given_name.items():\n",
    "                #get minimum and maximum energies/wavelengths\n",
    "                if unit_selector.value[1] == \"wavelength_array\":\n",
    "                    max_x=max([curve.loc[curve.index[0],\"wavelength_array\"] for curve in curve_list])\n",
    "                    min_x=min([curve.loc[curve.index[-1],\"wavelength_array\"] for curve in curve_list])\n",
    "                else:\n",
    "                    max_x=max([curve.loc[curve.index[-1],\"photon_energy_array\"] for curve in curve_list])\n",
    "                    min_x=min([curve.loc[curve.index[0],\"photon_energy_array\"] for curve in curve_list])\n",
    "                \n",
    "                xcoords = np.linspace(min_x, max_x, 500)\n",
    "                \n",
    "                if unit_selector.value[1] == \"wavelength_array\":\n",
    "                    #order of datapoints is flipped to get wavelengths in ascending order\n",
    "                    interpolated_curves = pd.DataFrame(map(lambda curve : np.interp(xcoords, \n",
    "                                                                                    curve.loc[::-1,\"wavelength_array\"], \n",
    "                                                                                    curve.loc[::-1,\"eqe_array\"], \n",
    "                                                                                    left=np.nan, right=np.nan), \n",
    "                                                           curve_list))\n",
    "                else:\n",
    "                    interpolated_curves = pd.DataFrame(map(lambda curve : np.interp(xcoords, \n",
    "                                                                                    curve.loc[:,\"photon_energy_array\"], \n",
    "                                                                                    curve.loc[:,\"eqe_array\"], \n",
    "                                                                                    left=np.nan, right=np.nan), \n",
    "                                                           curve_list))\n",
    "                \n",
    "                eqe_curve_stats = pd.DataFrame([interpolated_curves.mean(), \n",
    "                                                interpolated_curves.std(), \n",
    "                                                interpolated_curves.median(), \n",
    "                                                interpolated_curves.quantile(q=0.25,interpolation='linear'),\n",
    "                                                interpolated_curves.quantile(q=0.75,interpolation='linear')\n",
    "                                               ],\n",
    "                                               index = [\"mean\",\"std\",\"median\",\"lower_quartile\",\"upper_quartile\"]\n",
    "                                              )\n",
    "                \n",
    "                #Plot the results\n",
    "                color = next(color_iterator)\n",
    "                if standart_deviation_area.value:\n",
    "                    figure.add_scatter(x=np.concatenate([xcoords,xcoords[::-1]]), #[indices, reversed indices]\n",
    "                                       y= pd.concat([eqe_curve_stats.loc[\"mean\",:] + eqe_curve_stats.loc[\"std\",:], \n",
    "                                                     eqe_curve_stats.loc[\"mean\",::-1] - eqe_curve_stats.loc[\"std\",::-1]]), #[mean+std, mean-std in reversed order]\n",
    "                                       line_color='rgba(255,255,255,0)', #make outline of area invisible\n",
    "                                       fillcolor=f\"rgba({color[4:-1]},0.2)\", #manipulate color string to add transparency\n",
    "                                       fill=\"toself\",\n",
    "                                       legendgroup=name,\n",
    "                                       showlegend=False,\n",
    "                                       name=name)\n",
    "                    figure.add_scatter(x=xcoords, \n",
    "                                       y=eqe_curve_stats.loc[\"mean\",:], \n",
    "                                       name=name, \n",
    "                                       line_color=color,\n",
    "                                       legendgroup=name)\n",
    "                else:\n",
    "                    figure.add_scatter(x=np.concatenate([xcoords,xcoords[::-1]]), #[indices, reversed indices]\n",
    "                                       y= pd.concat([eqe_curve_stats.loc[\"lower_quartile\",:], eqe_curve_stats.loc[\"upper_quartile\",::-1]]), #[lower qurtile, upper quartile in reversed order]\n",
    "                                       line_color='rgba(255,255,255,0)', #make outline of area invisible\n",
    "                                       fillcolor=f\"rgba({color[4:-1]},0.2)\", #manipulate color string to add transparency\n",
    "                                       fill=\"toself\",\n",
    "                                       legendgroup=name,\n",
    "                                       showlegend=False,\n",
    "                                       name=name)\n",
    "                    figure.add_scatter(x=xcoords, \n",
    "                                       y=eqe_curve_stats.loc[\"median\",:], \n",
    "                                       name=name, \n",
    "                                       line_color=color,\n",
    "                                       legendgroup=name)\n",
    "                \n",
    "        else:\n",
    "            #iterate over every sample and cell with parameter plot set to true\n",
    "            for sample_id in data[\"sample_ids\"]:\n",
    "                sample_name = data[\"properties\"].loc[sample_id,\"name\"]\n",
    "                samples_filtered =data[\"params\"].loc[sample_id].loc[data[\"params\"].loc[sample_id][\"plot\"]]  \n",
    "                for i in samples_filtered.index:\n",
    "                    figure.add_scatter(x=data[\"curves\"].loc[(sample_id, *i),column_name],\n",
    "                                       y=data[\"curves\"].loc[(sample_id, *i),\"eqe_array\"],\n",
    "                                       name=curve_options.name.value(sample_name,samples_filtered.loc[i,\"name\"]))\n",
    "        figure.show()\n",
    "\n",
    "#options contains list of tupels with contents (description, value), in this case value is (axis title, column name) \n",
    "unit_selector = widgets.ToggleButtons(options=[(\"photon energy\",(\"photon energy / eV\",\"photon_energy_array\")),\n",
    "                                               (\"wavelength\",(\"wavelength / nm\", \"wavelength_array\"))], index=0)\n",
    "standart_deviation_area = widgets.ToggleButtons(description=\"group type\",options=[(\"median, quartiles\",False),(\"average, std\",True)], index=0)\n",
    "curve_button = widgets.Button(description=\"refresh plot\", button_style='primary')\n",
    "curve_button.on_click(update_curve_plot)\n",
    "\n",
    "curve_options = plotting_utils.plot_options(default_name=0)\n",
    "\n",
    "display(intervals, standart_deviation_area, unit_selector, curve_options, curve_button, curve_out)"
   ]
  },
  {
   "cell_type": "markdown",
   "id": "0fa55635-45a4-4cbd-b41e-63b60c0681b2",
   "metadata": {},
   "source": [
    "# Boxplot"
   ]
  },
  {
   "cell_type": "code",
   "execution_count": 5,
   "id": "3261852c-279d-48cc-b4f7-b75851f03b9a",
   "metadata": {
    "tags": []
   },
   "outputs": [
    {
     "data": {
      "application/vnd.jupyter.widget-view+json": {
       "model_id": "e5ce6e17d1e64e3780a094fc2cda8751",
       "version_major": 2,
       "version_minor": 0
      },
      "text/plain": [
       "ToggleButtons(index=1, options=(('bandgap', ('bandgap_eqe', 'bandgap / eV')), ('jsc', ('integrated_jsc', 'jsc …"
      ]
     },
     "metadata": {},
     "output_type": "display_data"
    },
    {
     "data": {
      "application/vnd.jupyter.widget-view+json": {
       "model_id": "b9e48e65d3574739b718bcea8990ed96",
       "version_major": 2,
       "version_minor": 0
      },
      "text/plain": [
       "plot_options(children=(ToggleButtons(index=1, options=(('sample + curve name', <function sample_and_curve_name…"
      ]
     },
     "metadata": {},
     "output_type": "display_data"
    },
    {
     "data": {
      "application/vnd.jupyter.widget-view+json": {
       "model_id": "31c484e52bac4b489e5881bdaa6660f2",
       "version_major": 2,
       "version_minor": 0
      },
      "text/plain": [
       "Button(button_style='primary', description='refresh plot', style=ButtonStyle())"
      ]
     },
     "metadata": {},
     "output_type": "display_data"
    },
    {
     "data": {
      "application/vnd.jupyter.widget-view+json": {
       "model_id": "1b559517725d4cad90867d5d091830cc",
       "version_major": 2,
       "version_minor": 0
      },
      "text/plain": [
       "Output()"
      ]
     },
     "metadata": {},
     "output_type": "display_data"
    }
   ],
   "source": [
    "options = [\n",
    "    (\"bandgap\",(\"bandgap_eqe\",\"bandgap / eV\")),\n",
    "    (\"jsc\",(\"integrated_jsc\",\"jsc / A/cm²\")),\n",
    "    (\"j0rad\",(\"integrated_j0rad\",\"j0rad / A/cm²\")),\n",
    "    (\"voc rad\",(\"voc_rad\",\"Voc rad / V\")),\n",
    "    (\"urbach energy\",(\"urbach_energy\",\"urbach energy / eV\")),\n",
    "]\n",
    "box_out = widgets.Output()\n",
    "\n",
    "def update_box_plot(b):\n",
    "    with box_out:\n",
    "        column_name, axis_title = parameter_selector.value\n",
    "        layout = go.Layout(\n",
    "            width=box_options.width.value,\n",
    "            height=box_options.height.value,\n",
    "            yaxis={\"title\":{\"text\":axis_title}},\n",
    "            template=template\n",
    "        )\n",
    "        box_out.clear_output()\n",
    "        figure = go.Figure(layout=layout)\n",
    "        x = []\n",
    "        y = []\n",
    "        for sample_id in data[\"sample_ids\"]:\n",
    "            sample_name = data[\"properties\"].loc[sample_id,\"name\"]\n",
    "            samples_filtered =data[\"params\"].loc[sample_id].loc[data[\"params\"].loc[sample_id][\"plot\"]]  \n",
    "            for i in samples_filtered.index:\n",
    "                x.append(box_options.name.value(sample_name, samples_filtered.loc[i,\"name\"]))\n",
    "                y.append(data[\"params\"].loc[(sample_id, *i),column_name])\n",
    "        figure.add_box(x=x, y=y)\n",
    "        figure.show()\n",
    "        \n",
    "parameter_selector = widgets.ToggleButtons(options=options, index=1)\n",
    "box_button = widgets.Button(description=\"refresh plot\", button_style='primary')\n",
    "box_button.on_click(update_box_plot)\n",
    "\n",
    "box_options = plotting_utils.plot_options(default_name=1)\n",
    "\n",
    "display(parameter_selector, box_options, box_button, box_out)"
   ]
  },
  {
   "cell_type": "code",
   "execution_count": null,
   "id": "952e1846-4c6d-4335-a4f7-00950fe8b8e3",
   "metadata": {},
   "outputs": [],
   "source": []
  }
 ],
 "metadata": {
  "kernelspec": {
   "display_name": "Python 3 (ipykernel)",
   "language": "python",
   "name": "python3"
  },
  "language_info": {
   "codemirror_mode": {
    "name": "ipython",
    "version": 3
   },
   "file_extension": ".py",
   "mimetype": "text/x-python",
   "name": "python",
   "nbconvert_exporter": "python",
   "pygments_lexer": "ipython3",
   "version": "3.10.10"
  }
 },
 "nbformat": 4,
 "nbformat_minor": 5
}
